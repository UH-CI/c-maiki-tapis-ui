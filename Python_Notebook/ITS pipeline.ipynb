{
 "cells": [
  {
   "cell_type": "markdown",
   "id": "0ce55071",
   "metadata": {},
   "source": [
    "# Setting up Tapis"
   ]
  },
  {
   "cell_type": "code",
   "execution_count": null,
   "id": "dba211cb",
   "metadata": {},
   "outputs": [],
   "source": [
    "from tapipy.tapis import Tapis\n",
    "import getpass\n",
    "\n",
    "tenant = 'tacc'\n",
    "base_url = 'https://' + tenant + '.tapis.io'\n",
    "\n",
    "username = input('Username: ')\n",
    "password = getpass.getpass(prompt='Password: ', stream=None)\n",
    "host = input('Host: ')"
   ]
  },
  {
   "cell_type": "code",
   "execution_count": null,
   "id": "7cf55f37",
   "metadata": {},
   "outputs": [],
   "source": [
    "# Create python Tapis client for user\n",
    "client = Tapis(base_url=base_url, username=username, password=password)\n",
    "# Call to Tokens API to get access token\n",
    "client.get_tokens()\n",
    "\n",
    "# Print Tapis v3 token\n",
    "client.access_token"
   ]
  },
  {
   "cell_type": "markdown",
   "id": "3d42f99b",
   "metadata": {},
   "source": [
    "# Listing All Systems"
   ]
  },
  {
   "cell_type": "code",
   "execution_count": null,
   "id": "19462f93",
   "metadata": {},
   "outputs": [],
   "source": [
    "client.systems.getSystems()"
   ]
  },
  {
   "cell_type": "code",
   "execution_count": null,
   "id": "2576ce27",
   "metadata": {},
   "outputs": [],
   "source": [
    "system_id_vm = \"dev-vm-wongy\"\n",
    "client.systems.getSystem(systemId=system_id_vm)"
   ]
  },
  {
   "cell_type": "markdown",
   "id": "4370c325",
   "metadata": {},
   "source": [
    " # Listing All Apps"
   ]
  },
  {
   "cell_type": "code",
   "execution_count": null,
   "id": "618b710d",
   "metadata": {},
   "outputs": [],
   "source": [
    "client.apps.getAppLatestVersion(appId=\"hello-world-wongy\")"
   ]
  },
  {
   "cell_type": "code",
   "execution_count": null,
   "id": "5a12d0e3",
   "metadata": {},
   "outputs": [],
   "source": [
    "client.apps.getApps()"
   ]
  },
  {
   "cell_type": "code",
   "execution_count": null,
   "id": "cb7ae22c",
   "metadata": {},
   "outputs": [],
   "source": [
    "test_app_id = \"img-classify-wongy\"\n",
    "print(client.apps.getAppLatestVersion(appId=test_app_id))"
   ]
  },
  {
   "cell_type": "code",
   "execution_count": 55,
   "id": "08380aa7",
   "metadata": {
    "scrolled": true
   },
   "outputs": [
    {
     "data": {
      "text/plain": [
       "\n",
       "url: http://localhost:5000/v3/apps/hello-world-wongy/0.1"
      ]
     },
     "execution_count": 55,
     "metadata": {},
     "output_type": "execute_result"
    }
   ],
   "source": [
    "app_id = \"hello-world-wongy\"\n",
    "\n",
    "hello_app = {\n",
    "  \"id\": app_id,\n",
    "  \"version\":\"0.1\",\n",
    "  \"description\":\"My sample application\",\n",
    "  \"runtime\":\"DOCKER\",\n",
    "  \"containerImage\":\"hello-world:latest\",\n",
    "  \"appType\":\"FORK\",\n",
    "  \"jobAttributes\": {\n",
    "    \"description\": \"default job description\",\n",
    "  }\n",
    "}\n",
    "\n",
    "client.apps.putApp(**hello_app, appId=app_id, appVersion=\"0.1\")"
   ]
  },
  {
   "cell_type": "markdown",
   "id": "8d6f6fa5",
   "metadata": {},
   "source": [
    "# Submiting a test job to VM"
   ]
  },
  {
   "cell_type": "code",
   "execution_count": 56,
   "id": "bfc0c253",
   "metadata": {},
   "outputs": [
    {
     "name": "stdout",
     "output_type": "stream",
     "text": [
      "53fa8cc7-9ac3-485b-8a9f-e2fb0855da6c-007\n"
     ]
    }
   ],
   "source": [
    "pa = {\n",
    "    \"parameterSet\": {\n",
    "        \"appArgs\": [\n",
    "            {\"name\": \"arg1\", \"include\": True, \"arg\": \"--image_file\"},\n",
    "            {\"name\": \"arg2\", \"include\": True, \"arg\": \"'https://s3.amazonaws.com/cdn-origin-etr.akc.org/wp-content/uploads/2017/11/12231410/Labrador-Retriever-On-White-01.jpg'\", \n",
    "    }\n",
    "        ]\n",
    "    }\n",
    "}\n",
    "\n",
    "job_response_vm=client.jobs.submitJob(name='img-classifier-job-vm',description='image classifier',appId=\"hello-world-wongy\",execSystemId=system_id_vm,appVersion= '0.1')\n",
    "print(job_response_vm.uuid)"
   ]
  },
  {
   "cell_type": "code",
   "execution_count": 57,
   "id": "81172ac2",
   "metadata": {},
   "outputs": [
    {
     "name": "stdout",
     "output_type": "stream",
     "text": [
      "****************************************************\n",
      "Job UUID: 53fa8cc7-9ac3-485b-8a9f-e2fb0855da6c-007\n",
      "****************************************************\n"
     ]
    }
   ],
   "source": [
    "# Get job uuid from the job submission response\n",
    "print(\"****************************************************\")\n",
    "job_uuid_vm=job_response_vm.uuid\n",
    "print(\"Job UUID: \" + job_uuid_vm)\n",
    "print(\"****************************************************\")"
   ]
  },
  {
   "cell_type": "code",
   "execution_count": 91,
   "id": "2ed0f925",
   "metadata": {},
   "outputs": [
    {
     "name": "stdout",
     "output_type": "stream",
     "text": [
      "****************************************************\n",
      "\n",
      "status: ARCHIVING\n",
      "****************************************************\n"
     ]
    }
   ],
   "source": [
    "client.jobs.getJobList()\n",
    "\n",
    "# Check the status of the job\n",
    "print(\"****************************************************\")\n",
    "print(client.jobs.getJobStatus(jobUuid=job_uuid_vm))\n",
    "print(\"****************************************************\")"
   ]
  },
  {
   "cell_type": "code",
   "execution_count": 90,
   "id": "82a72507",
   "metadata": {
    "scrolled": false
   },
   "outputs": [
    {
     "data": {
      "text/plain": [
       "[\n",
       " created: 2022-03-01T09:45:16.003026Z\n",
       " description: The job has transitioned to a new status: PENDING.\n",
       " event: JOB_NEW_STATUS\n",
       " jobStatus: PENDING\n",
       " transferSummary: \n",
       " \n",
       " transferTaskUuid: None,\n",
       " \n",
       " created: 2022-03-01T09:45:16.220206Z\n",
       " description: The job has transitioned to a new status: PROCESSING_INPUTS. The previous job status was PENDING.\n",
       " event: JOB_NEW_STATUS\n",
       " jobStatus: PROCESSING_INPUTS\n",
       " transferSummary: \n",
       " \n",
       " transferTaskUuid: None,\n",
       " \n",
       " created: 2022-03-01T09:45:16.484259Z\n",
       " description: The job has transitioned to a new status: STAGING_INPUTS. The previous job status was PROCESSING_INPUTS.\n",
       " event: JOB_NEW_STATUS\n",
       " jobStatus: STAGING_INPUTS\n",
       " transferSummary: \n",
       " \n",
       " transferTaskUuid: None,\n",
       " \n",
       " created: 2022-03-01T09:45:16.505576Z\n",
       " description: The job has transitioned to a new status: STAGING_JOB. The previous job status was STAGING_INPUTS.\n",
       " event: JOB_NEW_STATUS\n",
       " jobStatus: STAGING_JOB\n",
       " transferSummary: \n",
       " \n",
       " transferTaskUuid: None,\n",
       " \n",
       " created: 2022-03-01T09:45:27.252798Z\n",
       " description: The job has transitioned to a new status: SUBMITTING_JOB. The previous job status was STAGING_JOB.\n",
       " event: JOB_NEW_STATUS\n",
       " jobStatus: SUBMITTING_JOB\n",
       " transferSummary: \n",
       " \n",
       " transferTaskUuid: None,\n",
       " \n",
       " created: 2022-03-01T09:45:28.314529Z\n",
       " description: The job has transitioned to a new status: QUEUED. The previous job status was SUBMITTING_JOB.\n",
       " event: JOB_NEW_STATUS\n",
       " jobStatus: QUEUED\n",
       " transferSummary: \n",
       " \n",
       " transferTaskUuid: None,\n",
       " \n",
       " created: 2022-03-01T09:45:28.326833Z\n",
       " description: The job has transitioned to a new status: RUNNING. The previous job status was QUEUED.\n",
       " event: JOB_NEW_STATUS\n",
       " jobStatus: RUNNING\n",
       " transferSummary: \n",
       " \n",
       " transferTaskUuid: None,\n",
       " \n",
       " created: 2022-03-01T09:45:29.542699Z\n",
       " description: The job has transitioned to a new status: ARCHIVING. The previous job status was RUNNING.\n",
       " event: JOB_NEW_STATUS\n",
       " jobStatus: ARCHIVING\n",
       " transferSummary: \n",
       " \n",
       " transferTaskUuid: None]"
      ]
     },
     "execution_count": 90,
     "metadata": {},
     "output_type": "execute_result"
    }
   ],
   "source": [
    "client.jobs.getJobHistory(jobUuid=job_uuid_vm)"
   ]
  }
 ],
 "metadata": {
  "kernelspec": {
   "display_name": "Python 3 (ipykernel)",
   "language": "python",
   "name": "python3"
  },
  "language_info": {
   "codemirror_mode": {
    "name": "ipython",
    "version": 3
   },
   "file_extension": ".py",
   "mimetype": "text/x-python",
   "name": "python",
   "nbconvert_exporter": "python",
   "pygments_lexer": "ipython3",
   "version": "3.9.7"
  }
 },
 "nbformat": 4,
 "nbformat_minor": 5
}
