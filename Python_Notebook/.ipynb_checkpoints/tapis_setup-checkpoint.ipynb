{
 "cells": [
  {
   "cell_type": "markdown",
   "metadata": {},
   "source": [
    "# TAPIS Setup"
   ]
  },
  {
   "cell_type": "code",
   "execution_count": null,
   "metadata": {},
   "outputs": [],
   "source": [
    "from tapipy.tapis import Tapis\n",
    "import getpass\n",
    "\n",
    "tenant = 'tacc'\n",
    "base_url = 'https://' + tenant + '.tapis.io'\n",
    "\n",
    "username = input('Username: ')\n",
    "password = getpass.getpass(prompt='Password: ', stream=None)\n",
    "host = input('Host: ')"
   ]
  },
  {
   "cell_type": "code",
   "execution_count": null,
   "metadata": {},
   "outputs": [],
   "source": [
    "# Create python Tapis client for user\n",
    "client = Tapis(base_url=base_url, username=username, password=password)\n",
    "# Call to Tokens API to get access token\n",
    "client.get_tokens()\n",
    "\n",
    "# Print Tapis v3 token\n",
    "client.access_token"
   ]
  },
  {
   "cell_type": "markdown",
   "metadata": {},
   "source": [
    "# Creating system for VM"
   ]
  },
  {
   "cell_type": "code",
   "execution_count": null,
   "metadata": {},
   "outputs": [],
   "source": [
    "user_id = username\n",
    "\n",
    "system_id_vm = \"dev-vm-wongy\""
   ]
  },
  {
   "cell_type": "code",
   "execution_count": 81,
   "metadata": {},
   "outputs": [],
   "source": [
    "exec_system_vm = {\n",
    "  \"id\": system_id_vm,\n",
    "  \"description\": \"System for testing jobs on a VM\",\n",
    "  \"systemType\": \"LINUX\",\n",
    "  \"host\": host,\n",
    "  \"defaultAuthnMethod\": \"PASSWORD\",\n",
    "  \"port\": 22,\n",
    "  \"rootDir\": \"/home/\"+user_id,\n",
    "  \"canExec\": True,\n",
    "  \"jobRuntimes\": [ { \"runtimeType\": \"SINGULARITY\" } ],\n",
    "  \"jobWorkingDir\": \"workdir\",\n",
    "  \"jobIsBatch\": True,\n",
    "  \"batchScheduler\": \"SLURM\",\n",
    "  \"batchDefaultLogicalQueue\": \"tapisNormal\",\n",
    "  \"batchLogicalQueues\": [\n",
    "    {\n",
    "      \"name\": \"tapisNormal\",\n",
    "      \"hpcQueueName\": \"debug\",\n",
    "      \"maxJobs\": 50,\n",
    "      \"maxJobsPerUser\": 10,\n",
    "      \"minNodeCount\": 1,\n",
    "      \"maxNodeCount\": 16,\n",
    "      \"minCoresPerNode\": 1,\n",
    "      \"maxCoresPerNode\": 68,\n",
    "      \"minMemoryMB\": 1,\n",
    "      \"maxMemoryMB\": 16384,\n",
    "      \"minMinutes\": 1,\n",
    "      \"maxMinutes\": 60\n",
    "    }\n",
    "  ]\n",
    "}\n"
   ]
  },
  {
   "cell_type": "code",
   "execution_count": 82,
   "metadata": {},
   "outputs": [
    {
     "name": "stdout",
     "output_type": "stream",
     "text": [
      "****************************************************\n",
      "Create system: dev-vm-wongy\n",
      "****************************************************\n"
     ]
    },
    {
     "data": {
      "text/plain": [
       "\n",
       "url: http://localhost:5000/v3/systems/dev-vm-wongy"
      ]
     },
     "execution_count": 82,
     "metadata": {},
     "output_type": "execute_result"
    }
   ],
   "source": [
    "# Use the client to create the system in Tapis\n",
    "print(\"****************************************************\")\n",
    "print(\"Create system: \" + system_id_vm)\n",
    "print(\"****************************************************\")\n",
    "# client.systems.createSystem(**exec_system_vm)\n",
    "\n",
    "# If you need to update the system,\n",
    "# - modify the above definition as needed\n",
    "# - comment out the above line\n",
    "# - uncomment the below line\n",
    "# - re-run the cell\n",
    "client.systems.putSystem(**exec_system_vm, systemId=system_id_vm)"
   ]
  },
  {
   "cell_type": "code",
   "execution_count": null,
   "metadata": {},
   "outputs": [],
   "source": [
    "password_vm = password\n",
    "# Register credentials\n",
    "client.systems.createUserCredential(systemId=system_id_vm, userName=user_id, password=password_vm)\n",
    "\n",
    "# List files at the rootDir for the system\n",
    "client.files.listFiles(systemId=system_id_vm, path=\"/\")"
   ]
  },
  {
   "cell_type": "code",
   "execution_count": null,
   "metadata": {},
   "outputs": [],
   "source": [
    "client.files.listFiles(systemId=system_id_vm, path=\"/\")"
   ]
  },
  {
   "cell_type": "markdown",
   "metadata": {},
   "source": [
    "# Creating system for stampede2"
   ]
  },
  {
   "cell_type": "code",
   "execution_count": null,
   "metadata": {},
   "outputs": [],
   "source": [
    "user_id = username\n",
    "system_id_stampede2 = \"stampede2-hpc-\" + user_id"
   ]
  },
  {
   "cell_type": "code",
   "execution_count": null,
   "metadata": {},
   "outputs": [],
   "source": [
    "# Create the system definition\n",
    "exec_system_stampede2 = {\n",
    "  \"id\": system_id_stampede2,\n",
    "  \"description\": \"TACC Stampede2 System\",\n",
    "  \"systemType\": \"LINUX\",\n",
    "  \"host\": \"stampede2.tacc.utexas.edu\",\n",
    "  \"defaultAuthnMethod\": \"PASSWORD\",\n",
    "  \"port\": 22,\n",
    "  \"rootDir\": \"/\",\n",
    "  \"canExec\": True,\n",
    "  \"jobRuntimes\": [ { \"runtimeType\": \"SINGULARITY\" } ],\n",
    "  \"jobWorkingDir\": \"HOST_EVAL($WORK2)\",\n",
    "  \"jobIsBatch\": True,\n",
    "  \"batchScheduler\": \"SLURM\",\n",
    "  \"batchSchedulerProfile\": \"tacc\",\n",
    "  \"batchDefaultLogicalQueue\": \"tapisNormal\",\n",
    "  \"batchLogicalQueues\": [\n",
    "    {\n",
    "      \"name\": \"tapisNormal\",\n",
    "      \"hpcQueueName\": \"normal\",\n",
    "      \"maxJobs\": 50,\n",
    "      \"maxJobsPerUser\": 10,\n",
    "      \"minNodeCount\": 1,\n",
    "      \"maxNodeCount\": 16,\n",
    "      \"minCoresPerNode\": 1,\n",
    "      \"maxCoresPerNode\": 68,\n",
    "      \"minMemoryMB\": 1,\n",
    "      \"maxMemoryMB\": 16384,\n",
    "      \"minMinutes\": 1,\n",
    "      \"maxMinutes\": 60\n",
    "    }\n",
    "  ]\n",
    "}"
   ]
  },
  {
   "cell_type": "code",
   "execution_count": null,
   "metadata": {},
   "outputs": [],
   "source": [
    "# Use the client to create the system in Tapis\n",
    "print(\"****************************************************\")\n",
    "print(\"Create system: \" + system_id_stampede2)\n",
    "print(\"****************************************************\")\n",
    "# client.systems.createSystem(**exec_system_stampede2)\n",
    "\n",
    "password_hpc = password\n",
    "# Register credentials\n",
    "client.systems.createUserCredential(systemId=system_id_stampede2, userName=user_id, password=password_hpc)"
   ]
  },
  {
   "cell_type": "markdown",
   "metadata": {},
   "source": [
    "# Listing all systems"
   ]
  },
  {
   "cell_type": "code",
   "execution_count": null,
   "metadata": {},
   "outputs": [],
   "source": [
    "client.systems.getSystems()"
   ]
  },
  {
   "cell_type": "markdown",
   "metadata": {
    "collapsed": true
   },
   "source": [
    "# Creating App Definition"
   ]
  },
  {
   "cell_type": "code",
   "execution_count": null,
   "metadata": {},
   "outputs": [],
   "source": [
    "user_id = username\n",
    "app_id = \"gateways21-img-classify-\" + user_id\n",
    "\n",
    "# Create the application definition\n",
    "app_def = {\n",
    "  \"id\": app_id,\n",
    "  \"version\": \"0.0.1\",\n",
    "  \"description\": \"Image classifier run using Singularity in batch mode\",\n",
    "  \"appType\": \"BATCH\",\n",
    "  \"runtime\": \"SINGULARITY\",\n",
    "  \"runtimeOptions\": [\"SINGULARITY_RUN\"],\n",
    "  \"containerImage\": \"docker://tapis/img-classify\",\n",
    "  \"jobAttributes\": {\n",
    "    \"parameterSet\": {\n",
    "      \"archiveFilter\": { \"includeLaunchFiles\": False }\n",
    "    },\n",
    "    \"memoryMB\": 1,\n",
    "    \"nodeCount\": 1,\n",
    "    \"coresPerNode\": 1,\n",
    "    \"maxMinutes\": 10\n",
    "  }\n",
    "}\n",
    "\n",
    "# # Use the client to create the application in Tapis\n",
    "# print(\"****************************************************\")\n",
    "# print(\"Create application: \" + app_id)\n",
    "# print(\"****************************************************\")\n",
    "# client.apps.createAppVersion(**app_def)\n",
    "\n",
    "# If you need to update the application,\n",
    "# - modify the above definition as needed\n",
    "# - comment out the above line\n",
    "# - uncomment the below line\n",
    "# - re-run the cell\n",
    "client.apps.putApp(**app_def, appId=app_id, appVersion=\"0.0.1\")"
   ]
  },
  {
   "cell_type": "code",
   "execution_count": null,
   "metadata": {
    "scrolled": true
   },
   "outputs": [],
   "source": [
    "client.apps.getApps()\n",
    "client.apps.getAppLatestVersion(appId=app_id)"
   ]
  },
  {
   "cell_type": "markdown",
   "metadata": {},
   "source": [
    "# Creating Job Description"
   ]
  },
  {
   "cell_type": "code",
   "execution_count": null,
   "metadata": {},
   "outputs": [],
   "source": [
    "pa = {\n",
    " \"parameterSet\": {\n",
    "      \"appArgs\": [\n",
    "          {\"arg\": \"--image_file\", \"meta\": { \"name\": \"arg1\", \"required\": True}},\n",
    "          {\"arg\": \"'https://s3.amazonaws.com/cdn-origin-etr.akc.org/wp-content/uploads/2017/11/12231410/Labrador-Retriever-On-White-01.jpg'\",\n",
    "           \"meta\": {\"name\": \"arg2\", \"required\": True}\n",
    "          }\n",
    "      ]\n",
    "}\n",
    "}"
   ]
  },
  {
   "cell_type": "markdown",
   "metadata": {},
   "source": [
    "# Submitting Job"
   ]
  },
  {
   "cell_type": "code",
   "execution_count": 83,
   "metadata": {},
   "outputs": [
    {
     "name": "stdout",
     "output_type": "stream",
     "text": [
      "c8a92c5a-8aab-4641-aae7-fa3b6f6afb50-007\n"
     ]
    }
   ],
   "source": [
    "job_response_vm=client.jobs.submitJob(name='img-classifier-job-vm',description='image classifier',appId=app_id,execSystemId=system_id_vm,appVersion= '0.0.1',\n",
    "  **pa)\n",
    "print(job_response_vm.uuid)\n"
   ]
  },
  {
   "cell_type": "code",
   "execution_count": null,
   "metadata": {},
   "outputs": [],
   "source": [
    "# Get job uuid from the job submission response\n",
    "print(\"****************************************************\")\n",
    "job_uuid_vm=job_response_vm.uuid\n",
    "print(\"Job UUID: \" + job_uuid_vm)\n",
    "print(\"****************************************************\")"
   ]
  },
  {
   "cell_type": "code",
   "execution_count": 80,
   "metadata": {},
   "outputs": [
    {
     "name": "stdout",
     "output_type": "stream",
     "text": [
      "****************************************************\n",
      "\n",
      "status: FAILED\n",
      "****************************************************\n"
     ]
    }
   ],
   "source": [
    "client.jobs.getJobList()\n",
    "\n",
    "# Check the status of the job\n",
    "print(\"****************************************************\")\n",
    "print(client.jobs.getJobStatus(jobUuid=job_uuid_vm))\n",
    "print(\"****************************************************\")"
   ]
  },
  {
   "cell_type": "code",
   "execution_count": null,
   "metadata": {},
   "outputs": [],
   "source": [
    "client.jobs.getJobHistory(jobUuid=job_uuid_vm)"
   ]
  },
  {
   "cell_type": "code",
   "execution_count": null,
   "metadata": {
    "scrolled": true
   },
   "outputs": [],
   "source": [
    "# Download output of the job\n",
    "print(\"Job Output file:\")\n",
    "\n",
    "print(\"****************************************************\")\n",
    "jobs_output_vm= client.jobs.getJobOutputDownload(jobUuid=job_uuid_vm,outputPath='tapisjob.out')\n",
    "print(jobs_output_vm)\n",
    "print(\"****************************************************\")"
   ]
  },
  {
   "cell_type": "code",
   "execution_count": null,
   "metadata": {},
   "outputs": [],
   "source": []
  }
 ],
 "metadata": {
  "interpreter": {
   "hash": "caef97c8722a1a979d56425057a5b5a27c52a0679a3677a767a4268ae9a6b904"
  },
  "kernelspec": {
   "display_name": "Python 3",
   "language": "python",
   "name": "python3"
  },
  "language_info": {
   "codemirror_mode": {
    "name": "ipython",
    "version": 3
   },
   "file_extension": ".py",
   "mimetype": "text/x-python",
   "name": "python",
   "nbconvert_exporter": "python",
   "pygments_lexer": "ipython3",
   "version": "3.8.6"
  }
 },
 "nbformat": 4,
 "nbformat_minor": 2
}
